{
 "cells": [
  {
   "cell_type": "code",
   "execution_count": 1,
   "metadata": {},
   "outputs": [],
   "source": [
    "# Import necessary libraries\n",
    "import pandas as pd\n",
    "import numpy as np\n",
    "from sklearn.model_selection import train_test_split, StratifiedKFold\n",
    "from sklearn.preprocessing import LabelEncoder, Binarizer\n",
    "from sklearn.naive_bayes import BernoulliNB\n",
    "from sklearn.metrics import accuracy_score, f1_score\n",
    "from sklearn.impute import SimpleImputer\n",
    "from skopt import BayesSearchCV\n",
    "from skopt.space import Real, Integer\n",
    "\n",
    "# Load the training and test data\n",
    "train_df = pd.read_csv('train.csv')\n",
    "test_df = pd.read_csv('test.csv')\n"
   ]
  },
  {
   "cell_type": "code",
   "execution_count": 2,
   "metadata": {},
   "outputs": [],
   "source": [
    "# Custom function to convert currency strings to numerical values\n",
    "def currency_to_num(currency_series):\n",
    "    if pd.api.types.is_numeric_dtype(currency_series):\n",
    "        return currency_series\n",
    "    return pd.to_numeric(currency_series.str.replace(r'[^\\d.]', '', regex=True), errors='coerce')\n",
    "\n",
    "# Apply the currency conversion function to the 'Total Assets' and 'Liabilities' columns\n",
    "for df in [train_df, test_df]:\n",
    "    df['Total Assets'] = currency_to_num(df['Total Assets'])\n",
    "    df['Liabilities'] = currency_to_num(df['Liabilities'])\n",
    "    # Create a new feature 'Assets_to_Liabilities' by dividing 'Total Assets' by 'Liabilities'\n",
    "    df['Assets_to_Liabilities'] = df['Total Assets'] / np.where(df['Liabilities'] == 0, 0.01, df['Liabilities'])\n",
    "\n",
    "# Use LabelEncoder to convert 'Education' levels into numerical labels\n",
    "label_encoder = LabelEncoder()\n",
    "train_df['Education'] = label_encoder.fit_transform(train_df['Education'])\n"
   ]
  },
  {
   "cell_type": "code",
   "execution_count": 3,
   "metadata": {},
   "outputs": [
    {
     "ename": "NameError",
     "evalue": "name 'numeric_columns' is not defined",
     "output_type": "error",
     "traceback": [
      "\u001b[0;31m---------------------------------------------------------------------------\u001b[0m",
      "\u001b[0;31mNameError\u001b[0m                                 Traceback (most recent call last)",
      "Cell \u001b[0;32mIn[3], line 3\u001b[0m\n\u001b[1;32m      1\u001b[0m \u001b[38;5;66;03m# Use SimpleImputer to fill missing values in numerical columns with the mean value\u001b[39;00m\n\u001b[1;32m      2\u001b[0m imputer \u001b[38;5;241m=\u001b[39m SimpleImputer(strategy\u001b[38;5;241m=\u001b[39m\u001b[38;5;124m'\u001b[39m\u001b[38;5;124mmean\u001b[39m\u001b[38;5;124m'\u001b[39m)\n\u001b[0;32m----> 3\u001b[0m train_df[numeric_columns] \u001b[38;5;241m=\u001b[39m imputer\u001b[38;5;241m.\u001b[39mfit_transform(train_df[\u001b[43mnumeric_columns\u001b[49m])\n\u001b[1;32m      5\u001b[0m \u001b[38;5;66;03m# Perform one-hot encoding on the dataset to convert categorical variables into a format that can be provided to ML algorithms\u001b[39;00m\n\u001b[1;32m      6\u001b[0m train_df \u001b[38;5;241m=\u001b[39m pd\u001b[38;5;241m.\u001b[39mget_dummies(train_df\u001b[38;5;241m.\u001b[39mdrop([\u001b[38;5;124m'\u001b[39m\u001b[38;5;124mID\u001b[39m\u001b[38;5;124m'\u001b[39m, \u001b[38;5;124m'\u001b[39m\u001b[38;5;124mCandidate\u001b[39m\u001b[38;5;124m'\u001b[39m, \u001b[38;5;124m'\u001b[39m\u001b[38;5;124mConstituency ∇\u001b[39m\u001b[38;5;124m'\u001b[39m], axis\u001b[38;5;241m=\u001b[39m\u001b[38;5;241m1\u001b[39m), drop_first\u001b[38;5;241m=\u001b[39m\u001b[38;5;28;01mTrue\u001b[39;00m)\n",
      "\u001b[0;31mNameError\u001b[0m: name 'numeric_columns' is not defined"
     ]
    }
   ],
   "source": [
    "# Use SimpleImputer to fill missing values in numerical columns with the mean value\n",
    "imputer = SimpleImputer(strategy='mean')\n",
    "train_df[numeric_columns] = imputer.fit_transform(train_df[numeric_columns])\n",
    "\n",
    "# Perform one-hot encoding on the dataset to convert categorical variables into a format that can be provided to ML algorithms\n",
    "train_df = pd.get_dummies(train_df.drop(['ID', 'Candidate', 'Constituency ∇'], axis=1), drop_first=True)\n"
   ]
  },
  {
   "cell_type": "code",
   "execution_count": null,
   "metadata": {},
   "outputs": [],
   "source": [
    "# Separate features and the target variable\n",
    "X = train_df.drop('Education', axis=1)\n",
    "y = train_df['Education']\n",
    "\n",
    "# Split the dataset into a training set and a validation set\n",
    "X_train, X_val, y_train, y_val = train_test_split(X, y, test_size=0.2, stratify=y, random_state=42)\n"
   ]
  },
  {
   "cell_type": "code",
   "execution_count": null,
   "metadata": {},
   "outputs": [],
   "source": [
    "# Initialize the Bernoulli Naive Bayes classifier\n",
    "model = BernoulliNB()\n",
    "\n",
    "# Define the search space for the hyperparameters\n",
    "search_space = {\n",
    "    'alpha': Real(0.0001, 10, prior='log-uniform'),  # Smooth parameter\n",
    "    'binarize': Real(0.0, 1.0)                       # Threshold for binarizing the input features\n",
    "}\n",
    "\n",
    "# Set up the Bayesian optimization with cross-validation for hyperparameter tuning\n",
    "opt = BayesSearchCV(model, search_space, n_iter=32, scoring='f1_weighted', cv=StratifiedKFold(5), n_jobs=-1, random_state=42)\n",
    "\n",
    "# Fit the optimizer to the training data\n",
    "opt.fit(X_train, y_train)\n"
   ]
  },
  {
   "cell_type": "code",
   "execution_count": null,
   "metadata": {},
   "outputs": [],
   "source": [
    "import matplotlib.pyplot as plt\n",
    "import seaborn as sns\n",
    "\n",
    "# Assume 'feature_importances_' is available for your model\n",
    "feature_importances = opt.best_estimator_.feature_importances_\n",
    "features = X_train.columns\n",
    "\n",
    "# Create a bar plot of feature importances\n",
    "sns.barplot(x=feature_importances, y=features)\n",
    "plt.title('Feature Importances')\n",
    "plt.show()\n"
   ]
  },
  {
   "cell_type": "code",
   "execution_count": null,
   "metadata": {},
   "outputs": [],
   "source": [
    "from sklearn.metrics import confusion_matrix\n",
    "import seaborn as sns\n",
    "\n",
    "# Calculate the confusion matrix\n",
    "cm = confusion_matrix(y_val, y_pred)\n",
    "sns.heatmap(cm, annot=True, fmt='d')\n",
    "plt.xlabel('Predicted')\n",
    "plt.ylabel('True')\n",
    "plt.show()\n"
   ]
  }
 ],
 "metadata": {
  "kernelspec": {
   "display_name": "venv",
   "language": "python",
   "name": "python3"
  },
  "language_info": {
   "codemirror_mode": {
    "name": "ipython",
    "version": 3
   },
   "file_extension": ".py",
   "mimetype": "text/x-python",
   "name": "python",
   "nbconvert_exporter": "python",
   "pygments_lexer": "ipython3",
   "version": "3.9.6"
  }
 },
 "nbformat": 4,
 "nbformat_minor": 2
}
